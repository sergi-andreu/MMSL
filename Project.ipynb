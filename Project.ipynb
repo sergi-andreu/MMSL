{
 "cells": [
  {
   "cell_type": "code",
   "execution_count": 1,
   "id": "fd27dd26-9dcd-4908-b47a-df1de9da2018",
   "metadata": {},
   "outputs": [],
   "source": [
    "import pandas as pd\n",
    "from data import Data"
   ]
  },
  {
   "cell_type": "code",
   "execution_count": 2,
   "id": "c288585b-9162-4c85-ac28-d409ec3e3a90",
   "metadata": {},
   "outputs": [
    {
     "data": {
      "text/plain": "     danceability  energy  key  loudness  mode  speechiness  acousticness  \\\n0           0.545   0.884    5    -4.807     0       0.3670      0.290000   \n1           0.795   0.545    7    -8.153     1       0.3430      0.003960   \n2           0.489   0.871    5    -5.825     1       0.3860      0.002850   \n3           0.539   0.931    4    -1.803     0       0.2620      0.000713   \n4           0.918   0.734   11    -2.832     0       0.2690      0.029400   \n..            ...     ...  ...       ...   ...          ...           ...   \n500         0.897   0.612   11   -10.489     1       0.2110      0.029700   \n501         0.728   0.454    0    -9.281     1       0.0278      0.512000   \n502         0.571   0.837    0    -5.604     1       0.0377      0.165000   \n503         0.582   0.720   10    -9.722     0       0.2310      0.012700   \n504         0.697   0.474    9    -6.663     1       0.0351      0.603000   \n\n     instrumentalness  liveness  valence    tempo  Label  \n0            0.000000    0.3700    0.641   86.049      1  \n1            0.000000    0.2730    0.809   91.967      1  \n2            0.000004    0.1300    0.341  117.431      1  \n3            0.000000    0.2040    0.685   85.571      0  \n4            0.000008    0.1910    0.608   97.044      1  \n..                ...       ...      ...      ...    ...  \n500          0.186000    0.0894    0.767  102.305      1  \n501          0.000001    0.0831    0.323  130.368      0  \n502          0.000005    0.1700    0.713  141.660      1  \n503          0.035300    0.3630    0.541   89.273      1  \n504          0.000000    0.1100    0.249  127.904      0  \n\n[505 rows x 12 columns]",
      "text/html": "<div>\n<style scoped>\n    .dataframe tbody tr th:only-of-type {\n        vertical-align: middle;\n    }\n\n    .dataframe tbody tr th {\n        vertical-align: top;\n    }\n\n    .dataframe thead th {\n        text-align: right;\n    }\n</style>\n<table border=\"1\" class=\"dataframe\">\n  <thead>\n    <tr style=\"text-align: right;\">\n      <th></th>\n      <th>danceability</th>\n      <th>energy</th>\n      <th>key</th>\n      <th>loudness</th>\n      <th>mode</th>\n      <th>speechiness</th>\n      <th>acousticness</th>\n      <th>instrumentalness</th>\n      <th>liveness</th>\n      <th>valence</th>\n      <th>tempo</th>\n      <th>Label</th>\n    </tr>\n  </thead>\n  <tbody>\n    <tr>\n      <th>0</th>\n      <td>0.545</td>\n      <td>0.884</td>\n      <td>5</td>\n      <td>-4.807</td>\n      <td>0</td>\n      <td>0.3670</td>\n      <td>0.290000</td>\n      <td>0.000000</td>\n      <td>0.3700</td>\n      <td>0.641</td>\n      <td>86.049</td>\n      <td>1</td>\n    </tr>\n    <tr>\n      <th>1</th>\n      <td>0.795</td>\n      <td>0.545</td>\n      <td>7</td>\n      <td>-8.153</td>\n      <td>1</td>\n      <td>0.3430</td>\n      <td>0.003960</td>\n      <td>0.000000</td>\n      <td>0.2730</td>\n      <td>0.809</td>\n      <td>91.967</td>\n      <td>1</td>\n    </tr>\n    <tr>\n      <th>2</th>\n      <td>0.489</td>\n      <td>0.871</td>\n      <td>5</td>\n      <td>-5.825</td>\n      <td>1</td>\n      <td>0.3860</td>\n      <td>0.002850</td>\n      <td>0.000004</td>\n      <td>0.1300</td>\n      <td>0.341</td>\n      <td>117.431</td>\n      <td>1</td>\n    </tr>\n    <tr>\n      <th>3</th>\n      <td>0.539</td>\n      <td>0.931</td>\n      <td>4</td>\n      <td>-1.803</td>\n      <td>0</td>\n      <td>0.2620</td>\n      <td>0.000713</td>\n      <td>0.000000</td>\n      <td>0.2040</td>\n      <td>0.685</td>\n      <td>85.571</td>\n      <td>0</td>\n    </tr>\n    <tr>\n      <th>4</th>\n      <td>0.918</td>\n      <td>0.734</td>\n      <td>11</td>\n      <td>-2.832</td>\n      <td>0</td>\n      <td>0.2690</td>\n      <td>0.029400</td>\n      <td>0.000008</td>\n      <td>0.1910</td>\n      <td>0.608</td>\n      <td>97.044</td>\n      <td>1</td>\n    </tr>\n    <tr>\n      <th>...</th>\n      <td>...</td>\n      <td>...</td>\n      <td>...</td>\n      <td>...</td>\n      <td>...</td>\n      <td>...</td>\n      <td>...</td>\n      <td>...</td>\n      <td>...</td>\n      <td>...</td>\n      <td>...</td>\n      <td>...</td>\n    </tr>\n    <tr>\n      <th>500</th>\n      <td>0.897</td>\n      <td>0.612</td>\n      <td>11</td>\n      <td>-10.489</td>\n      <td>1</td>\n      <td>0.2110</td>\n      <td>0.029700</td>\n      <td>0.186000</td>\n      <td>0.0894</td>\n      <td>0.767</td>\n      <td>102.305</td>\n      <td>1</td>\n    </tr>\n    <tr>\n      <th>501</th>\n      <td>0.728</td>\n      <td>0.454</td>\n      <td>0</td>\n      <td>-9.281</td>\n      <td>1</td>\n      <td>0.0278</td>\n      <td>0.512000</td>\n      <td>0.000001</td>\n      <td>0.0831</td>\n      <td>0.323</td>\n      <td>130.368</td>\n      <td>0</td>\n    </tr>\n    <tr>\n      <th>502</th>\n      <td>0.571</td>\n      <td>0.837</td>\n      <td>0</td>\n      <td>-5.604</td>\n      <td>1</td>\n      <td>0.0377</td>\n      <td>0.165000</td>\n      <td>0.000005</td>\n      <td>0.1700</td>\n      <td>0.713</td>\n      <td>141.660</td>\n      <td>1</td>\n    </tr>\n    <tr>\n      <th>503</th>\n      <td>0.582</td>\n      <td>0.720</td>\n      <td>10</td>\n      <td>-9.722</td>\n      <td>0</td>\n      <td>0.2310</td>\n      <td>0.012700</td>\n      <td>0.035300</td>\n      <td>0.3630</td>\n      <td>0.541</td>\n      <td>89.273</td>\n      <td>1</td>\n    </tr>\n    <tr>\n      <th>504</th>\n      <td>0.697</td>\n      <td>0.474</td>\n      <td>9</td>\n      <td>-6.663</td>\n      <td>1</td>\n      <td>0.0351</td>\n      <td>0.603000</td>\n      <td>0.000000</td>\n      <td>0.1100</td>\n      <td>0.249</td>\n      <td>127.904</td>\n      <td>0</td>\n    </tr>\n  </tbody>\n</table>\n<p>505 rows × 12 columns</p>\n</div>"
     },
     "execution_count": 2,
     "metadata": {},
     "output_type": "execute_result"
    }
   ],
   "source": [
    "data = Data(\"project_train.csv\")\n",
    "data.df"
   ]
  },
  {
   "cell_type": "code",
   "execution_count": 3,
   "id": "ee16829a-787b-43cc-bf53-a4234cccbeee",
   "metadata": {},
   "outputs": [],
   "source": [
<<<<<<< Updated upstream
    "data.df.loc[84, \"energy\"] = 0.734\n",
    "data.df.loc[94, \"loudness\"] = -6.542"
   ]
  },
  {
   "cell_type": "code",
   "execution_count": 4,
   "id": "8f451e84-56c0-43f4-a015-db6bc21e781f",
   "metadata": {},
   "outputs": [
    {
     "data": {
      "text/plain": "<AxesSubplot:>"
     },
     "execution_count": 4,
     "metadata": {},
     "output_type": "execute_result"
    },
    {
     "data": {
      "text/plain": "<Figure size 432x288 with 1 Axes>",
      "image/png": "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\n"
     },
     "metadata": {
      "needs_background": "light"
     },
     "output_type": "display_data"
    }
   ],
   "source": [
    "data.df[\"energy\"].hist()"
=======
    "data.split_df()\n",
    "data.preprocess_class_col()\n",
    "data.normalize_num_bound_col()\n",
    "data.normalize_num_unbound_col()\n",
    "data.append_cols()"
>>>>>>> Stashed changes
   ]
  },
  {
   "cell_type": "code",
   "execution_count": 11,
   "id": "f0b65fe0-9478-4ab1-9118-e76e72e009ca",
   "metadata": {},
   "outputs": [
    {
     "data": {
<<<<<<< Updated upstream
      "text/plain": "     danceability    energy  speechiness  acousticness  instrumentalness  \\\n0        0.058672  0.829155     2.322515     -0.070691         -0.542052   \n1        1.387322 -0.290255     2.110548     -0.843690         -0.542052   \n2       -0.238945  0.786227     2.490322     -0.846690         -0.542041   \n3        0.026785  0.984353     1.395161     -0.852465         -0.542052   \n4        2.041017  0.333840     1.456985     -0.774940         -0.542029   \n..            ...       ...          ...           ...               ...   \n500      1.929411 -0.069015     0.944732     -0.774130         -0.002648   \n501      1.031244 -0.590746    -0.673279      0.529245         -0.542048   \n502      0.196852  0.673956    -0.585843     -0.408493         -0.542037   \n503      0.255312  0.287611     1.121371     -0.820071         -0.439681   \n504      0.866491 -0.524704    -0.608806      0.775165         -0.542052   \n\n     liveness   valence  loudness     tempo  key_0  ...  key_3  key_4  key_5  \\\n0    0.785789  0.623338  0.563904 -1.025026      0  ...      0      0      1   \n1    0.301470  1.249577  0.091996 -0.808353      0  ...      0      0      0   \n2   -0.412527 -0.494946  0.420329  0.123948      0  ...      0      0      1   \n3   -0.043046  0.787353  0.987577 -1.042527      0  ...      0      1      0   \n4   -0.107955  0.500327  0.842451 -0.622471      0  ...      0      0      0   \n..        ...       ...       ...       ...    ...  ...    ...    ...    ...   \n500 -0.615243  1.093018 -0.237466 -0.429853      0  ...      0      0      0   \n501 -0.646699 -0.562043 -0.067094  0.597604      1  ...      0      0      0   \n502 -0.212808  0.891726  0.451498  1.011033      1  ...      0      0      0   \n503  0.750838  0.250577 -0.129291 -0.906987      0  ...      0      0      0   \n504 -0.512387 -0.837886  0.302140  0.507391      0  ...      0      0      0   \n\n     key_6  key_7  key_8  key_9  key_10  key_11      mode  \n0        0      0      0      0       0       0 -1.414913  \n1        0      1      0      0       0       0  0.705357  \n2        0      0      0      0       0       0  0.705357  \n3        0      0      0      0       0       0 -1.414913  \n4        0      0      0      0       0       1 -1.414913  \n..     ...    ...    ...    ...     ...     ...       ...  \n500      0      0      0      0       0       1  0.705357  \n501      0      0      0      0       0       0  0.705357  \n502      0      0      0      0       0       0  0.705357  \n503      0      0      0      0       1       0 -1.414913  \n504      0      0      0      1       0       0  0.705357  \n\n[505 rows x 22 columns]",
      "text/html": "<div>\n<style scoped>\n    .dataframe tbody tr th:only-of-type {\n        vertical-align: middle;\n    }\n\n    .dataframe tbody tr th {\n        vertical-align: top;\n    }\n\n    .dataframe thead th {\n        text-align: right;\n    }\n</style>\n<table border=\"1\" class=\"dataframe\">\n  <thead>\n    <tr style=\"text-align: right;\">\n      <th></th>\n      <th>danceability</th>\n      <th>energy</th>\n      <th>speechiness</th>\n      <th>acousticness</th>\n      <th>instrumentalness</th>\n      <th>liveness</th>\n      <th>valence</th>\n      <th>loudness</th>\n      <th>tempo</th>\n      <th>key_0</th>\n      <th>...</th>\n      <th>key_3</th>\n      <th>key_4</th>\n      <th>key_5</th>\n      <th>key_6</th>\n      <th>key_7</th>\n      <th>key_8</th>\n      <th>key_9</th>\n      <th>key_10</th>\n      <th>key_11</th>\n      <th>mode</th>\n    </tr>\n  </thead>\n  <tbody>\n    <tr>\n      <th>0</th>\n      <td>0.058672</td>\n      <td>0.829155</td>\n      <td>2.322515</td>\n      <td>-0.070691</td>\n      <td>-0.542052</td>\n      <td>0.785789</td>\n      <td>0.623338</td>\n      <td>0.563904</td>\n      <td>-1.025026</td>\n      <td>0</td>\n      <td>...</td>\n      <td>0</td>\n      <td>0</td>\n      <td>1</td>\n      <td>0</td>\n      <td>0</td>\n      <td>0</td>\n      <td>0</td>\n      <td>0</td>\n      <td>0</td>\n      <td>-1.414913</td>\n    </tr>\n    <tr>\n      <th>1</th>\n      <td>1.387322</td>\n      <td>-0.290255</td>\n      <td>2.110548</td>\n      <td>-0.843690</td>\n      <td>-0.542052</td>\n      <td>0.301470</td>\n      <td>1.249577</td>\n      <td>0.091996</td>\n      <td>-0.808353</td>\n      <td>0</td>\n      <td>...</td>\n      <td>0</td>\n      <td>0</td>\n      <td>0</td>\n      <td>0</td>\n      <td>1</td>\n      <td>0</td>\n      <td>0</td>\n      <td>0</td>\n      <td>0</td>\n      <td>0.705357</td>\n    </tr>\n    <tr>\n      <th>2</th>\n      <td>-0.238945</td>\n      <td>0.786227</td>\n      <td>2.490322</td>\n      <td>-0.846690</td>\n      <td>-0.542041</td>\n      <td>-0.412527</td>\n      <td>-0.494946</td>\n      <td>0.420329</td>\n      <td>0.123948</td>\n      <td>0</td>\n      <td>...</td>\n      <td>0</td>\n      <td>0</td>\n      <td>1</td>\n      <td>0</td>\n      <td>0</td>\n      <td>0</td>\n      <td>0</td>\n      <td>0</td>\n      <td>0</td>\n      <td>0.705357</td>\n    </tr>\n    <tr>\n      <th>3</th>\n      <td>0.026785</td>\n      <td>0.984353</td>\n      <td>1.395161</td>\n      <td>-0.852465</td>\n      <td>-0.542052</td>\n      <td>-0.043046</td>\n      <td>0.787353</td>\n      <td>0.987577</td>\n      <td>-1.042527</td>\n      <td>0</td>\n      <td>...</td>\n      <td>0</td>\n      <td>1</td>\n      <td>0</td>\n      <td>0</td>\n      <td>0</td>\n      <td>0</td>\n      <td>0</td>\n      <td>0</td>\n      <td>0</td>\n      <td>-1.414913</td>\n    </tr>\n    <tr>\n      <th>4</th>\n      <td>2.041017</td>\n      <td>0.333840</td>\n      <td>1.456985</td>\n      <td>-0.774940</td>\n      <td>-0.542029</td>\n      <td>-0.107955</td>\n      <td>0.500327</td>\n      <td>0.842451</td>\n      <td>-0.622471</td>\n      <td>0</td>\n      <td>...</td>\n      <td>0</td>\n      <td>0</td>\n      <td>0</td>\n      <td>0</td>\n      <td>0</td>\n      <td>0</td>\n      <td>0</td>\n      <td>0</td>\n      <td>1</td>\n      <td>-1.414913</td>\n    </tr>\n    <tr>\n      <th>...</th>\n      <td>...</td>\n      <td>...</td>\n      <td>...</td>\n      <td>...</td>\n      <td>...</td>\n      <td>...</td>\n      <td>...</td>\n      <td>...</td>\n      <td>...</td>\n      <td>...</td>\n      <td>...</td>\n      <td>...</td>\n      <td>...</td>\n      <td>...</td>\n      <td>...</td>\n      <td>...</td>\n      <td>...</td>\n      <td>...</td>\n      <td>...</td>\n      <td>...</td>\n      <td>...</td>\n    </tr>\n    <tr>\n      <th>500</th>\n      <td>1.929411</td>\n      <td>-0.069015</td>\n      <td>0.944732</td>\n      <td>-0.774130</td>\n      <td>-0.002648</td>\n      <td>-0.615243</td>\n      <td>1.093018</td>\n      <td>-0.237466</td>\n      <td>-0.429853</td>\n      <td>0</td>\n      <td>...</td>\n      <td>0</td>\n      <td>0</td>\n      <td>0</td>\n      <td>0</td>\n      <td>0</td>\n      <td>0</td>\n      <td>0</td>\n      <td>0</td>\n      <td>1</td>\n      <td>0.705357</td>\n    </tr>\n    <tr>\n      <th>501</th>\n      <td>1.031244</td>\n      <td>-0.590746</td>\n      <td>-0.673279</td>\n      <td>0.529245</td>\n      <td>-0.542048</td>\n      <td>-0.646699</td>\n      <td>-0.562043</td>\n      <td>-0.067094</td>\n      <td>0.597604</td>\n      <td>1</td>\n      <td>...</td>\n      <td>0</td>\n      <td>0</td>\n      <td>0</td>\n      <td>0</td>\n      <td>0</td>\n      <td>0</td>\n      <td>0</td>\n      <td>0</td>\n      <td>0</td>\n      <td>0.705357</td>\n    </tr>\n    <tr>\n      <th>502</th>\n      <td>0.196852</td>\n      <td>0.673956</td>\n      <td>-0.585843</td>\n      <td>-0.408493</td>\n      <td>-0.542037</td>\n      <td>-0.212808</td>\n      <td>0.891726</td>\n      <td>0.451498</td>\n      <td>1.011033</td>\n      <td>1</td>\n      <td>...</td>\n      <td>0</td>\n      <td>0</td>\n      <td>0</td>\n      <td>0</td>\n      <td>0</td>\n      <td>0</td>\n      <td>0</td>\n      <td>0</td>\n      <td>0</td>\n      <td>0.705357</td>\n    </tr>\n    <tr>\n      <th>503</th>\n      <td>0.255312</td>\n      <td>0.287611</td>\n      <td>1.121371</td>\n      <td>-0.820071</td>\n      <td>-0.439681</td>\n      <td>0.750838</td>\n      <td>0.250577</td>\n      <td>-0.129291</td>\n      <td>-0.906987</td>\n      <td>0</td>\n      <td>...</td>\n      <td>0</td>\n      <td>0</td>\n      <td>0</td>\n      <td>0</td>\n      <td>0</td>\n      <td>0</td>\n      <td>0</td>\n      <td>1</td>\n      <td>0</td>\n      <td>-1.414913</td>\n    </tr>\n    <tr>\n      <th>504</th>\n      <td>0.866491</td>\n      <td>-0.524704</td>\n      <td>-0.608806</td>\n      <td>0.775165</td>\n      <td>-0.542052</td>\n      <td>-0.512387</td>\n      <td>-0.837886</td>\n      <td>0.302140</td>\n      <td>0.507391</td>\n      <td>0</td>\n      <td>...</td>\n      <td>0</td>\n      <td>0</td>\n      <td>0</td>\n      <td>0</td>\n      <td>0</td>\n      <td>0</td>\n      <td>1</td>\n      <td>0</td>\n      <td>0</td>\n      <td>0.705357</td>\n    </tr>\n  </tbody>\n</table>\n<p>505 rows × 22 columns</p>\n</div>"
=======
      "text/html": [
       "<div>\n",
       "<style scoped>\n",
       "    .dataframe tbody tr th:only-of-type {\n",
       "        vertical-align: middle;\n",
       "    }\n",
       "\n",
       "    .dataframe tbody tr th {\n",
       "        vertical-align: top;\n",
       "    }\n",
       "\n",
       "    .dataframe thead th {\n",
       "        text-align: right;\n",
       "    }\n",
       "</style>\n",
       "<table border=\"1\" class=\"dataframe\">\n",
       "  <thead>\n",
       "    <tr style=\"text-align: right;\">\n",
       "      <th></th>\n",
       "      <th>danceability</th>\n",
       "      <th>energy</th>\n",
       "      <th>speechiness</th>\n",
       "      <th>acousticness</th>\n",
       "      <th>instrumentalness</th>\n",
       "      <th>liveness</th>\n",
       "      <th>valence</th>\n",
       "      <th>loudness</th>\n",
       "      <th>tempo</th>\n",
       "      <th>key_0</th>\n",
       "      <th>...</th>\n",
       "      <th>key_3</th>\n",
       "      <th>key_4</th>\n",
       "      <th>key_5</th>\n",
       "      <th>key_6</th>\n",
       "      <th>key_7</th>\n",
       "      <th>key_8</th>\n",
       "      <th>key_9</th>\n",
       "      <th>key_10</th>\n",
       "      <th>key_11</th>\n",
       "      <th>mode</th>\n",
       "    </tr>\n",
       "  </thead>\n",
       "  <tbody>\n",
       "    <tr>\n",
       "      <th>0</th>\n",
       "      <td>0.058672</td>\n",
       "      <td>-0.036797</td>\n",
       "      <td>2.322515</td>\n",
       "      <td>-0.070691</td>\n",
       "      <td>-0.542052</td>\n",
       "      <td>0.785789</td>\n",
       "      <td>0.623338</td>\n",
       "      <td>0.058250</td>\n",
       "      <td>-1.025026</td>\n",
       "      <td>0</td>\n",
       "      <td>...</td>\n",
       "      <td>0</td>\n",
       "      <td>0</td>\n",
       "      <td>1</td>\n",
       "      <td>0</td>\n",
       "      <td>0</td>\n",
       "      <td>0</td>\n",
       "      <td>0</td>\n",
       "      <td>0</td>\n",
       "      <td>0</td>\n",
       "      <td>0</td>\n",
       "    </tr>\n",
       "    <tr>\n",
       "      <th>1</th>\n",
       "      <td>1.387322</td>\n",
       "      <td>-0.047185</td>\n",
       "      <td>2.110548</td>\n",
       "      <td>-0.843690</td>\n",
       "      <td>-0.542052</td>\n",
       "      <td>0.301470</td>\n",
       "      <td>1.249577</td>\n",
       "      <td>0.046745</td>\n",
       "      <td>-0.808353</td>\n",
       "      <td>0</td>\n",
       "      <td>...</td>\n",
       "      <td>0</td>\n",
       "      <td>0</td>\n",
       "      <td>0</td>\n",
       "      <td>0</td>\n",
       "      <td>1</td>\n",
       "      <td>0</td>\n",
       "      <td>0</td>\n",
       "      <td>0</td>\n",
       "      <td>0</td>\n",
       "      <td>1</td>\n",
       "    </tr>\n",
       "    <tr>\n",
       "      <th>2</th>\n",
       "      <td>-0.238945</td>\n",
       "      <td>-0.037196</td>\n",
       "      <td>2.490322</td>\n",
       "      <td>-0.846690</td>\n",
       "      <td>-0.542041</td>\n",
       "      <td>-0.412527</td>\n",
       "      <td>-0.494946</td>\n",
       "      <td>0.054750</td>\n",
       "      <td>0.123948</td>\n",
       "      <td>0</td>\n",
       "      <td>...</td>\n",
       "      <td>0</td>\n",
       "      <td>0</td>\n",
       "      <td>1</td>\n",
       "      <td>0</td>\n",
       "      <td>0</td>\n",
       "      <td>0</td>\n",
       "      <td>0</td>\n",
       "      <td>0</td>\n",
       "      <td>0</td>\n",
       "      <td>1</td>\n",
       "    </tr>\n",
       "    <tr>\n",
       "      <th>3</th>\n",
       "      <td>0.026785</td>\n",
       "      <td>-0.035357</td>\n",
       "      <td>1.395161</td>\n",
       "      <td>-0.852465</td>\n",
       "      <td>-0.542052</td>\n",
       "      <td>-0.043046</td>\n",
       "      <td>0.787353</td>\n",
       "      <td>0.068580</td>\n",
       "      <td>-1.042527</td>\n",
       "      <td>0</td>\n",
       "      <td>...</td>\n",
       "      <td>0</td>\n",
       "      <td>1</td>\n",
       "      <td>0</td>\n",
       "      <td>0</td>\n",
       "      <td>0</td>\n",
       "      <td>0</td>\n",
       "      <td>0</td>\n",
       "      <td>0</td>\n",
       "      <td>0</td>\n",
       "      <td>0</td>\n",
       "    </tr>\n",
       "    <tr>\n",
       "      <th>4</th>\n",
       "      <td>2.041017</td>\n",
       "      <td>-0.041394</td>\n",
       "      <td>1.456985</td>\n",
       "      <td>-0.774940</td>\n",
       "      <td>-0.542029</td>\n",
       "      <td>-0.107955</td>\n",
       "      <td>0.500327</td>\n",
       "      <td>0.065042</td>\n",
       "      <td>-0.622471</td>\n",
       "      <td>0</td>\n",
       "      <td>...</td>\n",
       "      <td>0</td>\n",
       "      <td>0</td>\n",
       "      <td>0</td>\n",
       "      <td>0</td>\n",
       "      <td>0</td>\n",
       "      <td>0</td>\n",
       "      <td>0</td>\n",
       "      <td>0</td>\n",
       "      <td>1</td>\n",
       "      <td>0</td>\n",
       "    </tr>\n",
       "    <tr>\n",
       "      <th>...</th>\n",
       "      <td>...</td>\n",
       "      <td>...</td>\n",
       "      <td>...</td>\n",
       "      <td>...</td>\n",
       "      <td>...</td>\n",
       "      <td>...</td>\n",
       "      <td>...</td>\n",
       "      <td>...</td>\n",
       "      <td>...</td>\n",
       "      <td>...</td>\n",
       "      <td>...</td>\n",
       "      <td>...</td>\n",
       "      <td>...</td>\n",
       "      <td>...</td>\n",
       "      <td>...</td>\n",
       "      <td>...</td>\n",
       "      <td>...</td>\n",
       "      <td>...</td>\n",
       "      <td>...</td>\n",
       "      <td>...</td>\n",
       "      <td>...</td>\n",
       "    </tr>\n",
       "    <tr>\n",
       "      <th>500</th>\n",
       "      <td>1.929411</td>\n",
       "      <td>-0.045132</td>\n",
       "      <td>0.944732</td>\n",
       "      <td>-0.774130</td>\n",
       "      <td>-0.002648</td>\n",
       "      <td>-0.615243</td>\n",
       "      <td>1.093018</td>\n",
       "      <td>0.038712</td>\n",
       "      <td>-0.429853</td>\n",
       "      <td>0</td>\n",
       "      <td>...</td>\n",
       "      <td>0</td>\n",
       "      <td>0</td>\n",
       "      <td>0</td>\n",
       "      <td>0</td>\n",
       "      <td>0</td>\n",
       "      <td>0</td>\n",
       "      <td>0</td>\n",
       "      <td>0</td>\n",
       "      <td>1</td>\n",
       "      <td>1</td>\n",
       "    </tr>\n",
       "    <tr>\n",
       "      <th>501</th>\n",
       "      <td>1.031244</td>\n",
       "      <td>-0.049973</td>\n",
       "      <td>-0.673279</td>\n",
       "      <td>0.529245</td>\n",
       "      <td>-0.542048</td>\n",
       "      <td>-0.646699</td>\n",
       "      <td>-0.562043</td>\n",
       "      <td>0.042866</td>\n",
       "      <td>0.597604</td>\n",
       "      <td>1</td>\n",
       "      <td>...</td>\n",
       "      <td>0</td>\n",
       "      <td>0</td>\n",
       "      <td>0</td>\n",
       "      <td>0</td>\n",
       "      <td>0</td>\n",
       "      <td>0</td>\n",
       "      <td>0</td>\n",
       "      <td>0</td>\n",
       "      <td>0</td>\n",
       "      <td>1</td>\n",
       "    </tr>\n",
       "    <tr>\n",
       "      <th>502</th>\n",
       "      <td>0.196852</td>\n",
       "      <td>-0.038238</td>\n",
       "      <td>-0.585843</td>\n",
       "      <td>-0.408493</td>\n",
       "      <td>-0.542037</td>\n",
       "      <td>-0.212808</td>\n",
       "      <td>0.891726</td>\n",
       "      <td>0.055510</td>\n",
       "      <td>1.011033</td>\n",
       "      <td>1</td>\n",
       "      <td>...</td>\n",
       "      <td>0</td>\n",
       "      <td>0</td>\n",
       "      <td>0</td>\n",
       "      <td>0</td>\n",
       "      <td>0</td>\n",
       "      <td>0</td>\n",
       "      <td>0</td>\n",
       "      <td>0</td>\n",
       "      <td>0</td>\n",
       "      <td>1</td>\n",
       "    </tr>\n",
       "    <tr>\n",
       "      <th>503</th>\n",
       "      <td>0.255312</td>\n",
       "      <td>-0.041823</td>\n",
       "      <td>1.121371</td>\n",
       "      <td>-0.820071</td>\n",
       "      <td>-0.439681</td>\n",
       "      <td>0.750838</td>\n",
       "      <td>0.250577</td>\n",
       "      <td>0.041349</td>\n",
       "      <td>-0.906987</td>\n",
       "      <td>0</td>\n",
       "      <td>...</td>\n",
       "      <td>0</td>\n",
       "      <td>0</td>\n",
       "      <td>0</td>\n",
       "      <td>0</td>\n",
       "      <td>0</td>\n",
       "      <td>0</td>\n",
       "      <td>0</td>\n",
       "      <td>1</td>\n",
       "      <td>0</td>\n",
       "      <td>0</td>\n",
       "    </tr>\n",
       "    <tr>\n",
       "      <th>504</th>\n",
       "      <td>0.866491</td>\n",
       "      <td>-0.049360</td>\n",
       "      <td>-0.608806</td>\n",
       "      <td>0.775165</td>\n",
       "      <td>-0.542052</td>\n",
       "      <td>-0.512387</td>\n",
       "      <td>-0.837886</td>\n",
       "      <td>0.051868</td>\n",
       "      <td>0.507391</td>\n",
       "      <td>0</td>\n",
       "      <td>...</td>\n",
       "      <td>0</td>\n",
       "      <td>0</td>\n",
       "      <td>0</td>\n",
       "      <td>0</td>\n",
       "      <td>0</td>\n",
       "      <td>0</td>\n",
       "      <td>1</td>\n",
       "      <td>0</td>\n",
       "      <td>0</td>\n",
       "      <td>1</td>\n",
       "    </tr>\n",
       "  </tbody>\n",
       "</table>\n",
       "<p>505 rows × 22 columns</p>\n",
       "</div>"
      ],
      "text/plain": [
       "     danceability    energy  speechiness  acousticness  instrumentalness  \\\n",
       "0        0.058672 -0.036797     2.322515     -0.070691         -0.542052   \n",
       "1        1.387322 -0.047185     2.110548     -0.843690         -0.542052   \n",
       "2       -0.238945 -0.037196     2.490322     -0.846690         -0.542041   \n",
       "3        0.026785 -0.035357     1.395161     -0.852465         -0.542052   \n",
       "4        2.041017 -0.041394     1.456985     -0.774940         -0.542029   \n",
       "..            ...       ...          ...           ...               ...   \n",
       "500      1.929411 -0.045132     0.944732     -0.774130         -0.002648   \n",
       "501      1.031244 -0.049973    -0.673279      0.529245         -0.542048   \n",
       "502      0.196852 -0.038238    -0.585843     -0.408493         -0.542037   \n",
       "503      0.255312 -0.041823     1.121371     -0.820071         -0.439681   \n",
       "504      0.866491 -0.049360    -0.608806      0.775165         -0.542052   \n",
       "\n",
       "     liveness   valence  loudness     tempo  key_0  ...  key_3  key_4  key_5  \\\n",
       "0    0.785789  0.623338  0.058250 -1.025026      0  ...      0      0      1   \n",
       "1    0.301470  1.249577  0.046745 -0.808353      0  ...      0      0      0   \n",
       "2   -0.412527 -0.494946  0.054750  0.123948      0  ...      0      0      1   \n",
       "3   -0.043046  0.787353  0.068580 -1.042527      0  ...      0      1      0   \n",
       "4   -0.107955  0.500327  0.065042 -0.622471      0  ...      0      0      0   \n",
       "..        ...       ...       ...       ...    ...  ...    ...    ...    ...   \n",
       "500 -0.615243  1.093018  0.038712 -0.429853      0  ...      0      0      0   \n",
       "501 -0.646699 -0.562043  0.042866  0.597604      1  ...      0      0      0   \n",
       "502 -0.212808  0.891726  0.055510  1.011033      1  ...      0      0      0   \n",
       "503  0.750838  0.250577  0.041349 -0.906987      0  ...      0      0      0   \n",
       "504 -0.512387 -0.837886  0.051868  0.507391      0  ...      0      0      0   \n",
       "\n",
       "     key_6  key_7  key_8  key_9  key_10  key_11  mode  \n",
       "0        0      0      0      0       0       0     0  \n",
       "1        0      1      0      0       0       0     1  \n",
       "2        0      0      0      0       0       0     1  \n",
       "3        0      0      0      0       0       0     0  \n",
       "4        0      0      0      0       0       1     0  \n",
       "..     ...    ...    ...    ...     ...     ...   ...  \n",
       "500      0      0      0      0       0       1     1  \n",
       "501      0      0      0      0       0       0     1  \n",
       "502      0      0      0      0       0       0     1  \n",
       "503      0      0      0      0       1       0     0  \n",
       "504      0      0      0      1       0       0     1  \n",
       "\n",
       "[505 rows x 22 columns]"
      ]
>>>>>>> Stashed changes
     },
     "execution_count": 11,
     "metadata": {},
     "output_type": "execute_result"
    }
   ],
   "source": [
    "data.df"
   ]
  },
  {
   "cell_type": "code",
<<<<<<< Updated upstream
   "execution_count": 6,
   "id": "d3677ab6-f942-4c95-9953-a873364f75fd",
   "metadata": {},
   "outputs": [
    {
     "data": {
      "text/plain": "<AxesSubplot:xlabel='energy', ylabel='danceability'>"
     },
     "execution_count": 6,
     "metadata": {},
     "output_type": "execute_result"
    },
    {
     "data": {
      "text/plain": "<Figure size 432x288 with 1 Axes>",
      "image/png": "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\n"
     },
     "metadata": {
      "needs_background": "light"
     },
     "output_type": "display_data"
    }
   ],
   "source": [
    "data.df.plot(kind='scatter', x = 'energy', y = 'danceability')"
   ]
  },
  {
   "cell_type": "code",
   "execution_count": 7,
=======
   "execution_count": 15,
>>>>>>> Stashed changes
   "id": "04460e8d-ff1a-495f-8192-08fad6d166dc",
   "metadata": {},
   "outputs": [
    {
     "data": {
      "text/plain": [
       "<AxesSubplot:>"
      ]
     },
     "execution_count": 15,
     "metadata": {},
     "output_type": "execute_result"
    },
    {
     "data": {
      "image/png": "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\n",
      "text/plain": [
       "<Figure size 432x288 with 1 Axes>"
      ]
     },
     "metadata": {
      "needs_background": "light"
     },
     "output_type": "display_data"
    }
   ],
   "source": [
    "data.df[\"instrumentalness\"].hist()"
   ]
  },
  {
   "cell_type": "code",
   "execution_count": 16,
   "id": "18bfb4e3-b2e2-4b4d-a0fd-19a7f8cb9682",
   "metadata": {},
   "outputs": [
    {
     "data": {
      "text/plain": [
       "0      1\n",
       "1      1\n",
       "2      1\n",
       "3      0\n",
       "4      1\n",
       "      ..\n",
       "500    1\n",
       "501    0\n",
       "502    1\n",
       "503    1\n",
       "504    0\n",
       "Name: Label, Length: 505, dtype: int64"
      ]
     },
     "execution_count": 16,
     "metadata": {},
     "output_type": "execute_result"
    }
   ],
   "source": [
    "data.labels"
   ]
  },
  {
   "cell_type": "code",
   "execution_count": 22,
   "id": "e95e7b8b-157e-43d7-913d-1a30ebffbb3a",
   "metadata": {},
   "outputs": [],
   "source": [
    "import sklearn.discriminant_analysis as DA\n",
    "\n",
    "LDA = DA.LinearDiscriminantAnalysis()"
<<<<<<< Updated upstream
   ]
  },
  {
   "cell_type": "code",
   "execution_count": 10,
   "id": "3a571421-db64-4ddb-b4d1-72d2ba545b46",
   "metadata": {},
   "outputs": [
    {
     "data": {
      "text/plain": [
       "LinearDiscriminantAnalysis()"
      ]
     },
     "execution_count": 10,
     "metadata": {},
     "output_type": "execute_result"
    }
   ],
   "source": [
    "LDA.fit(data.df, data.labels)"
   ]
  },
  {
   "cell_type": "code",
   "execution_count": 15,
   "id": "343979c6-5bf9-4404-b712-4586a4da0107",
   "metadata": {},
   "outputs": [],
   "source": [
    "class LearningMachine:\n",
    "    \n",
    "    def __init__(self, data_class):\n",
    "        \n",
    "        self.name = None\n",
    "        \n",
    "        self.input = data_class\n",
    "        \n",
    "        self.labels = data_class.labels\n",
    "        \n",
    "        self.methods = [\"LDA\", \"RDA\"]\n",
    "        \n",
    "        self.output = np.full(np.shape(self.labels), None)\n",
    "        self.metrics = {}\n",
    "        \n",
    "        self.fitting_parameters = {}\n",
    "        \n",
    "        self.model = None\n",
    "        \n",
    "        \n",
    "    def __str__(self):\n",
    "        return str(self.name)\n",
    "    \n",
    "        \n",
    "    def _fit(self):\n",
    "        \n",
    "        self.fitting_parameters = {}\n",
    "        \n",
    "        pass\n",
    "    \n",
    "        \n",
    "    def _predict(self):\n",
    "        \n",
    "        self.output = self.output\n",
    "        \n",
    "        pass\n",
    "        \n",
    "        \n",
    "    def _evaluate_training(self):\n",
    "        \n",
    "        self.metrics = {}\n",
    "        \n",
    "        pass\n",
    "    \n",
    "    def _evaluate_testing(self):\n",
    "        \n",
    "        self.metrics = {}\n",
    "        \n",
    "        pass"
=======
>>>>>>> Stashed changes
   ]
  },
  {
   "cell_type": "code",
<<<<<<< Updated upstream
   "execution_count": 20,
   "id": "44bbbf6f-fadb-4dd7-8b10-b71c4f7de31d",
   "metadata": {},
   "outputs": [],
   "source": [
    "class LDA(LearningMachine):\n",
    "    \n",
    "    def __init__(self, data):\n",
    "        super().__init__(data)\n",
    "        self.name = \"LDA\"\n",
    "        \n",
    "        from sklearn.discriminant_analysis import LinearDiscriminantAnalysis\n",
    "        \n",
    "        self.model = LinearDiscriminantAnalysis()\n",
    "\n",
    "        pass\n",
    "\n",
    "    def _fit(self):\n",
    "        \n",
    "        self.fitting_parameters = self.model.fit(self.input.df, self.input.labels).get_params()\n",
    "        \n",
    "        print(f\"The {self.name} model has been trained on the given data\")\n",
    "        pass\n",
    "    \n",
    "    def _predict(self, X):\n",
    "        \n",
    "        \"\"\"\n",
    "        X is a dataframe containing the features of the samples for which we want to predict their labels\n",
    "        \"\"\"\n",
    "        \n",
    "        self.model.predict(X)\n",
    "        \n",
    "        pass\n",
    "    \n",
    "    def _evaluate_training(self, measure=\"accuracy\"):\n",
    "        \n",
    "        if measure == \"accuracy\":\n",
    "            sc = self.model.score(self.input.df,self.labels)\n",
    "            self.metrics[\"Train_Acc\"]  = sc\n",
    "        \n",
    "    def _evaluate_testing(self, X, Y, measure=\"accuracy\"):\n",
    "        \n",
    "        \"\"\"\n",
    "        X is a dataframe containing the features of the samples for which we want to predict their labels\n",
    "        Y is a dataframe containing the true labels for the data X  (1 = like, 0 = dislike)\n",
    "        \"\"\"\n",
    "        \n",
    "        \n",
    "        self.model.score(X, Y)"
   ]
  },
  {
   "cell_type": "code",
   "execution_count": 21,
   "id": "a5dcb934-3685-468b-b5c3-7851434ab5f1",
   "metadata": {},
   "outputs": [],
   "source": [
    "lda = LDA(data)"
   ]
  },
  {
   "cell_type": "code",
   "execution_count": 22,
   "id": "f0d76653-f189-417f-8b24-f5e9437bc709",
   "metadata": {},
   "outputs": [
    {
     "data": {
      "text/plain": [
       "'LDA'"
      ]
     },
     "execution_count": 22,
     "metadata": {},
     "output_type": "execute_result"
    }
   ],
   "source": [
    "lda.input.df\n",
    "str(lda)"
   ]
  },
  {
   "cell_type": "code",
   "execution_count": 23,
   "id": "87502cab-77c1-4444-b878-8428fbf4ad9e",
   "metadata": {},
   "outputs": [
    {
     "name": "stdout",
     "output_type": "stream",
     "text": [
      "The LDA model has been trained on the given data\n"
     ]
    }
   ],
   "source": [
    "lda._fit()\n",
    "lda._evaluate_training()"
   ]
  },
  {
   "cell_type": "code",
   "execution_count": 24,
   "id": "bec15e4d-8595-406e-b4dd-2310aee87f67",
   "metadata": {},
   "outputs": [
    {
     "data": {
      "text/plain": [
       "{'Train_Acc': 0.807920792079208}"
      ]
     },
     "execution_count": 24,
     "metadata": {},
     "output_type": "execute_result"
    }
   ],
   "source": [
    "lda.metrics"
=======
   "execution_count": 23,
   "id": "3a571421-db64-4ddb-b4d1-72d2ba545b46",
   "metadata": {},
   "outputs": [
    {
     "data": {
      "text/plain": [
       "LinearDiscriminantAnalysis()"
      ]
     },
     "execution_count": 23,
     "metadata": {},
     "output_type": "execute_result"
    }
   ],
   "source": [
    "LDA.fit(data.df, data.labels)"
>>>>>>> Stashed changes
   ]
  }
 ],
 "metadata": {
  "kernelspec": {
   "display_name": "Python 3 (ipykernel)",
   "language": "python",
   "name": "python3"
  },
  "language_info": {
   "codemirror_mode": {
    "name": "ipython",
    "version": 3
   },
   "file_extension": ".py",
   "mimetype": "text/x-python",
   "name": "python",
   "nbconvert_exporter": "python",
   "pygments_lexer": "ipython3",
   "version": "3.8.8"
  }
 },
 "nbformat": 4,
 "nbformat_minor": 5
}