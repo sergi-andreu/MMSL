{
 "cells": [
  {
   "cell_type": "code",
   "execution_count": 1,
   "id": "78679384-d11f-4658-a86e-a10f852cbed9",
   "metadata": {},
   "outputs": [
    {
     "name": "stdout",
     "output_type": "stream",
     "text": [
      "There were 6 duplicated elements in the dataset, and have been removed from the dataframe\n"
     ]
    }
   ],
   "source": [
    "import pandas as pd\n",
    "import numpy as np\n",
    "\n",
    "from data import Data\n",
    "\n",
    "data = Data(\"project_train.csv\")\n",
    "\n",
    "data.df.loc[84, \"energy\"] = 0.734\n",
    "data.df.loc[94, \"loudness\"] = -6.542\n",
    "\n",
    "data.preprocess(shuffle=True, remove_duplicates=True,\n",
    "                bound_bool=True, unbound_bool=True, \n",
    "                class_bool = True, binary_bool = False)"
   ]
  },
  {
   "cell_type": "code",
   "execution_count": 2,
   "id": "26dc9bb2-f188-4356-8dc3-92923cd7f0d6",
   "metadata": {},
   "outputs": [],
   "source": [
    "from learning_machine import RandomForest\n",
    "from learning_machine import Bagging\n",
    "\n",
    "RANDOMFOREST = {}\n",
    "BAGGING = {}\n",
    "\n",
    "for i in range(50):\n",
    "    \n",
    "    data._shuffle()\n",
    "    \n",
    "    n_estimators = [50, 100, 150, 300]\n",
    "    bagging = Bagging(data)\n",
    "    bagging.parameter_search(n_estimators, plot=False)\n",
    "    \n",
    "    BAGGING[i] = bagging.get_table_with_results()\n",
    "    \n",
    "    n_estimators = [50, 100, 150, 300]\n",
    "    randomforest = RandomForest(data)\n",
    "    randomforest.parameter_search(n_estimators, plot=False)\n",
    "    \n",
    "    RANDOMFOREST[i] = randomforest.get_table_with_results()"
   ]
  },
  {
   "cell_type": "code",
   "execution_count": 3,
   "id": "4e3d541c-4429-4041-8e1a-81a41b3f532e",
   "metadata": {},
   "outputs": [],
   "source": [
    "for i in range(50):\n",
    "    for key in BAGGING[i].keys():\n",
    "        BAGGING[i][key] = pd.to_numeric(BAGGING[i][key].str[:2])\n",
    "        RANDOMFOREST[i][key] = pd.to_numeric(RANDOMFOREST[i][key].str[:2])"
   ]
  },
  {
   "cell_type": "code",
   "execution_count": 4,
   "id": "9550660e-3bc9-4af9-965c-8358212133af",
   "metadata": {},
   "outputs": [],
   "source": [
    "added_bagging =  BAGGING[0]\n",
    "added_randomforest = RANDOMFOREST[0]\n",
    "\n",
    "for i in range(1,50):\n",
    "    added_bagging = added_bagging.add(BAGGING[i], fill_value=0)\n",
    "    added_randomforest = added_randomforest.add(RANDOMFOREST[i])"
   ]
  },
  {
   "cell_type": "code",
   "execution_count": 5,
   "id": "44fb721b-8d27-4aba-834f-9d47722aa230",
   "metadata": {},
   "outputs": [
    {
     "data": {
      "text/html": [
       "<div>\n",
       "<style scoped>\n",
       "    .dataframe tbody tr th:only-of-type {\n",
       "        vertical-align: middle;\n",
       "    }\n",
       "\n",
       "    .dataframe tbody tr th {\n",
       "        vertical-align: top;\n",
       "    }\n",
       "\n",
       "    .dataframe thead th {\n",
       "        text-align: right;\n",
       "    }\n",
       "</style>\n",
       "<table border=\"1\" class=\"dataframe\">\n",
       "  <thead>\n",
       "    <tr style=\"text-align: right;\">\n",
       "      <th></th>\n",
       "      <th>50 N estimators</th>\n",
       "      <th>100 N estimators</th>\n",
       "      <th>150 N estimators</th>\n",
       "      <th>300 N estimators</th>\n",
       "    </tr>\n",
       "  </thead>\n",
       "  <tbody>\n",
       "    <tr>\n",
       "      <th>Accuracy</th>\n",
       "      <td>81.58</td>\n",
       "      <td>81.86</td>\n",
       "      <td>81.94</td>\n",
       "      <td>82.06</td>\n",
       "    </tr>\n",
       "    <tr>\n",
       "      <th>Recall</th>\n",
       "      <td>83.58</td>\n",
       "      <td>83.70</td>\n",
       "      <td>83.46</td>\n",
       "      <td>83.44</td>\n",
       "    </tr>\n",
       "    <tr>\n",
       "      <th>Precision</th>\n",
       "      <td>80.38</td>\n",
       "      <td>80.76</td>\n",
       "      <td>81.14</td>\n",
       "      <td>81.36</td>\n",
       "    </tr>\n",
       "    <tr>\n",
       "      <th>F1 Score</th>\n",
       "      <td>81.76</td>\n",
       "      <td>82.10</td>\n",
       "      <td>82.14</td>\n",
       "      <td>82.18</td>\n",
       "    </tr>\n",
       "  </tbody>\n",
       "</table>\n",
       "</div>"
      ],
      "text/plain": [
       "           50 N estimators  100 N estimators  150 N estimators  \\\n",
       "Accuracy             81.58             81.86             81.94   \n",
       "Recall               83.58             83.70             83.46   \n",
       "Precision            80.38             80.76             81.14   \n",
       "F1 Score             81.76             82.10             82.14   \n",
       "\n",
       "           300 N estimators  \n",
       "Accuracy              82.06  \n",
       "Recall                83.44  \n",
       "Precision             81.36  \n",
       "F1 Score              82.18  "
      ]
     },
     "execution_count": 5,
     "metadata": {},
     "output_type": "execute_result"
    }
   ],
   "source": [
    "added_bagging.divide(50)"
   ]
  },
  {
   "cell_type": "code",
   "execution_count": 1,
   "id": "2e0b5684-6a96-4d33-b051-ed358f2bfa91",
   "metadata": {},
   "outputs": [
    {
     "ename": "NameError",
     "evalue": "name 'added_randomforest' is not defined",
     "output_type": "error",
     "traceback": [
      "\u001b[1;31m---------------------------------------------------------------------------\u001b[0m",
      "\u001b[1;31mNameError\u001b[0m                                 Traceback (most recent call last)",
      "\u001b[1;32m~\\AppData\\Local\\Temp/ipykernel_1272/962346731.py\u001b[0m in \u001b[0;36m<module>\u001b[1;34m\u001b[0m\n\u001b[1;32m----> 1\u001b[1;33m \u001b[0madded_randomforest\u001b[0m\u001b[1;33m.\u001b[0m\u001b[0mdivide\u001b[0m\u001b[1;33m(\u001b[0m\u001b[1;36m50\u001b[0m\u001b[1;33m)\u001b[0m\u001b[1;33m\u001b[0m\u001b[1;33m\u001b[0m\u001b[0m\n\u001b[0m",
      "\u001b[1;31mNameError\u001b[0m: name 'added_randomforest' is not defined"
     ]
    }
   ],
   "source": [
    "added_randomforest.divide(50)"
   ]
  }
 ],
 "metadata": {
  "kernelspec": {
   "display_name": "Python 3 (ipykernel)",
   "language": "python",
   "name": "python3"
  },
  "language_info": {
   "codemirror_mode": {
    "name": "ipython",
    "version": 3
   },
   "file_extension": ".py",
   "mimetype": "text/x-python",
   "name": "python",
   "nbconvert_exporter": "python",
   "pygments_lexer": "ipython3",
   "version": "3.8.8"
  }
 },
 "nbformat": 4,
 "nbformat_minor": 5
}
